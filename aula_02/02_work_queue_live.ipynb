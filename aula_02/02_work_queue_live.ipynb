{
 "cells": [
  {
   "cell_type": "markdown",
   "metadata": {},
   "source": [
    "# Work queue"
   ]
  },
  {
   "attachments": {},
   "cell_type": "markdown",
   "metadata": {},
   "source": [
    "* Também conhecidos como Task queue.\n",
    "* Ideal para tarefas demoradas.\n",
    "* Encapsula a tarefa e envia para ser executada 'no seu tempo'.\n",
    "* Permite paralelização de tarefas.\n",
    "* **Cada tarefa é entregue uma única vez para cada consumidor!**"
   ]
  },
  {
   "cell_type": "markdown",
   "metadata": {},
   "source": [
    "![work_queue](https://s3-sa-east-1.amazonaws.com/lcpi/f2018581-2a58-492b-98a8-cf151f971fc2.png)"
   ]
  },
  {
   "cell_type": "code",
   "execution_count": null,
   "metadata": {},
   "outputs": [],
   "source": []
  },
  {
   "attachments": {},
   "cell_type": "markdown",
   "metadata": {},
   "source": [
    "## Envio de mensagens em série"
   ]
  },
  {
   "cell_type": "code",
   "execution_count": null,
   "metadata": {},
   "outputs": [],
   "source": [
    "import pika\n",
    "import datetime as dt\n",
    "import time\n",
    "import random"
   ]
  },
  {
   "cell_type": "code",
   "execution_count": null,
   "metadata": {},
   "outputs": [],
   "source": [
    "# Establish a connection with RabbitMQ server\n",
    "connection = pika.BlockingConnection(\n",
    "    pika.ConnectionParameters('localhost')\n",
    ")\n",
    "\n",
    "# Create a channel\n",
    "channel = connection.channel()\n",
    "\n",
    "# Define queue\n",
    "queue_name = 'work_queues_1'\n",
    "\n",
    "# Create queue\n",
    "channel.queue_declare(queue=queue_name)\n",
    "\n",
    "# Create and publish messages\n",
    "for i in range (30):\n",
    "\n",
    "    # Assemble message\n",
    "    time_stamp = dt.datetime.strftime(dt.datetime.now(), format='%Y-%m-%d %H:%M:%S.%f')\n",
    "    message = f'Hello RabbitMQ {time_stamp} {i:6}'\n",
    "\n",
    "    # Publish message\n",
    "    channel.basic_publish(exchange='',\n",
    "                        routing_key=queue_name,\n",
    "                        body=message)\n",
    "    # time.sleep(1)\n",
    "\n",
    "    print(f\" [x] Sent {message}\")\n",
    "\n",
    "# Close the connection\n",
    "connection.close()"
   ]
  },
  {
   "cell_type": "code",
   "execution_count": null,
   "metadata": {},
   "outputs": [],
   "source": []
  },
  {
   "attachments": {},
   "cell_type": "markdown",
   "metadata": {},
   "source": [
    "# Round-robin dispatching"
   ]
  },
  {
   "attachments": {},
   "cell_type": "markdown",
   "metadata": {},
   "source": [
    "* Habilidade de dividir tarefas entre consumidores.\n",
    "* Em média, cada consumidor recebe o mesmo número de mensagens: distribuição chamada de round-robin."
   ]
  },
  {
   "cell_type": "code",
   "execution_count": null,
   "metadata": {},
   "outputs": [],
   "source": []
  },
  {
   "attachments": {},
   "cell_type": "markdown",
   "metadata": {},
   "source": [
    "`02_worker_consumer.py`\n",
    "```python\n",
    "import pika\n",
    "import sys\n",
    "import os\n",
    "import time\n",
    "\n",
    "\n",
    "def main():\n",
    "    # Create a connection to the RabbitMQ server running on the local machine\n",
    "    connection = pika.BlockingConnection(pika.ConnectionParameters(host='localhost'))\n",
    "    channel = connection.channel()\n",
    "\n",
    "    queue_name = 'work_queues_1'\n",
    "\n",
    "    # Declare a queue to consume messages from\n",
    "    channel.queue_declare(queue=queue_name)\n",
    "\n",
    "    # Define a callback function to handle incoming messages\n",
    "    def callback(ch, method, properties, body):\n",
    "        print(f\" [x] Received {body}.\")\n",
    "\n",
    "\n",
    "    # Set up a consumer to receive messages from the queue and pass them to the callback function\n",
    "    channel.basic_consume(\n",
    "        queue=queue_name,\n",
    "        on_message_callback=callback,\n",
    "        auto_ack=True\n",
    "    )\n",
    "\n",
    "    # Start consuming messages from the queue\n",
    "    print(' [*] Waiting for messages. To exit press CTRL+C')\n",
    "    channel.start_consuming()\n",
    "\n",
    "\n",
    "if __name__ == '__main__':\n",
    "    try:\n",
    "        main()\n",
    "    except KeyboardInterrupt:\n",
    "        print('Interrupted')\n",
    "\n",
    "        # Attempt to exit gracefully\n",
    "        try:\n",
    "            sys.exit(0)\n",
    "        except SystemExit:\n",
    "            os._exit(0)\n",
    "```"
   ]
  },
  {
   "attachments": {},
   "cell_type": "markdown",
   "metadata": {},
   "source": [
    "**Pergunta:** Como é feita a distribuição de mensagens? Teste com 2 e 3 consumidores, pelo menos!"
   ]
  },
  {
   "cell_type": "code",
   "execution_count": null,
   "metadata": {},
   "outputs": [],
   "source": []
  },
  {
   "attachments": {},
   "cell_type": "markdown",
   "metadata": {},
   "source": [
    "# Tarefas *que demandam tempo*"
   ]
  },
  {
   "attachments": {},
   "cell_type": "markdown",
   "metadata": {},
   "source": [
    "Para simular tarefas que demandam tempo, enviaremos mensagens com um certo número de `.` ao final, onde cada ponto representa um segundo de espera para o consumidor.\n",
    "\n",
    "Façamos as seguintes alterações em nosso código:\n",
    "\n",
    "\n",
    "---\n",
    "`produtor`\n",
    "```python\n",
    " # Assemble message\n",
    "    time_stamp = dt.datetime.strftime(dt.datetime.now(), format='%Y-%m-%d %H:%M:%S.%f')\n",
    "    \n",
    "    # NOVA TAREFA\n",
    "    message = f'{time_stamp} {i:6} {\".\"*random.randint(1,10)}'\n",
    "```\n",
    "---\n",
    "`consumidor`\n",
    "```python\n",
    " # Define a callback function to handle incoming messages\n",
    "    def callback(ch, method, properties, body):\n",
    "        print(f\" [x] Received {body}\")\n",
    "\n",
    "        # Simulate work being done on the message by sleeping for an amount of time\n",
    "        time.sleep(body.count(b'.'))\n",
    "        print(\" [x] Done\")\n",
    "```\n",
    "---"
   ]
  },
  {
   "attachments": {},
   "cell_type": "markdown",
   "metadata": {},
   "source": [
    "`produtor`\n",
    "---"
   ]
  },
  {
   "cell_type": "code",
   "execution_count": null,
   "metadata": {},
   "outputs": [],
   "source": []
  },
  {
   "attachments": {},
   "cell_type": "markdown",
   "metadata": {},
   "source": [
    "`consumidor`\n",
    "---"
   ]
  },
  {
   "attachments": {},
   "cell_type": "markdown",
   "metadata": {},
   "source": []
  },
  {
   "attachments": {},
   "cell_type": "markdown",
   "metadata": {},
   "source": [
    "O que acontece?\n",
    "---"
   ]
  },
  {
   "attachments": {},
   "cell_type": "markdown",
   "metadata": {},
   "source": [
    "**Pergunta:**  O que acontece se desligamos um consumidor no meio da execução da tarefa?\n",
    "\n",
    "**Exercícios** \n",
    "1. Crie uma fila vazia `work_queues`.\n",
    "2. Inicie três consumidores (`02_worker_consumer.py`) em terminais diferentes.\n",
    "3. Envie 20 mensagens que demandam tempo para essa fila.\n",
    "4. Derrube 2 consumidores.\n",
    "5. Após todas as mensagens terem sido processadas, religue os dois consumidores."
   ]
  },
  {
   "cell_type": "code",
   "execution_count": null,
   "metadata": {},
   "outputs": [],
   "source": []
  },
  {
   "cell_type": "code",
   "execution_count": null,
   "metadata": {},
   "outputs": [],
   "source": []
  },
  {
   "attachments": {},
   "cell_type": "markdown",
   "metadata": {},
   "source": [
    "# Message acknowledgment"
   ]
  },
  {
   "attachments": {},
   "cell_type": "markdown",
   "metadata": {},
   "source": [
    "auto_ack\n",
    "---"
   ]
  },
  {
   "cell_type": "markdown",
   "metadata": {},
   "source": [
    "* **True**: indica que o servidor RabbitMQ pode deletar as tarefas.\n",
    "* **False**: as tarefas ficam no servidor e serão consumidas todas vez que um novo consumidor se conectar à fila."
   ]
  },
  {
   "cell_type": "markdown",
   "metadata": {},
   "source": [
    "**Observe:** \n",
    "Repita o exercício acima, trocando **auto_ack** para *False*. \n",
    "1. As mensagens ainda foram perdidas?\n",
    "2. Ao final do processo, religue os 2 consumidores e em seguida interrompa o que recebeu todas as mensagens. O que acontece?"
   ]
  },
  {
   "cell_type": "code",
   "execution_count": null,
   "metadata": {},
   "outputs": [],
   "source": []
  },
  {
   "attachments": {},
   "cell_type": "markdown",
   "metadata": {},
   "source": [
    "Manual acknowledgment\n",
    "---"
   ]
  },
  {
   "attachments": {},
   "cell_type": "markdown",
   "metadata": {},
   "source": [
    "Nos exercícios acima, percebemos que as tarefas enviadas pelo produtor que não foram executas antes do consumidor *sair do ar* ou foram perdidas ou são reprocessadas todas vez que iniciamos um novo consumidor nessa fila. Esses comportamentos não são desejados!\n",
    "\n",
    "É importante que todas as tarefas sejam executadas, **uma única vez**, independentemente de falhas na entrega e/ou processamento das mensagens!"
   ]
  },
  {
   "attachments": {},
   "cell_type": "markdown",
   "metadata": {},
   "source": [
    "Para conseguirmos o comportamento desejado, devemos parar de utilizar o **auto_ack** e realizar a confirmação de recebimento das mensagens manualmente para cada mensagem! Esse efeito é atingido alterando o código para:\n",
    "\n",
    "---\n",
    "`consumer`\n",
    "```python\n",
    "# Define a callback function to handle incoming messages\n",
    "    def callback(ch, method, properties, body):\n",
    "        print(f\" [x] Received {body}.\")\n",
    "\n",
    "        # Simulate work being done on the message by sleeping for an amount of time\n",
    "        time.sleep(body.count(b'.'))\n",
    "        print(\" [x] Done\")\n",
    "\n",
    "        ch.basic_ack(delivery_tag = method.delivery_tag)\n",
    "```\n",
    "\n",
    "---\n",
    "`consumer`\n",
    "```python\n",
    "   # Set up a consumer to receive messages from the queue and pass them to the callback function\n",
    "    channel.basic_consume(\n",
    "        queue=queue_name,\n",
    "        on_message_callback=callback,\n",
    "        # auto_ack=True\n",
    "    )\n",
    "```\n",
    "---"
   ]
  },
  {
   "attachments": {},
   "cell_type": "markdown",
   "metadata": {},
   "source": [
    "`consumidor`\n",
    "---"
   ]
  },
  {
   "cell_type": "markdown",
   "metadata": {},
   "source": []
  },
  {
   "attachments": {},
   "cell_type": "markdown",
   "metadata": {},
   "source": [
    "O que acontece?\n",
    "---"
   ]
  },
  {
   "attachments": {},
   "cell_type": "markdown",
   "metadata": {},
   "source": [
    "**Perguntas**  \n",
    "1. O que acontece se desligamos um consumidor no meio da execução da tarefa?\n",
    "\n",
    "2. O que acontece ao religarmos os consumidores após todas as mensagens terem sido consumidas?\n",
    "\n",
    "**Exercícios - replay** \n",
    "1. Crie uma fila vazia `work_queues`.\n",
    "2. Inicie três consumidores (`02_worker_consumer_ack.py`) em terminais diferentes.\n",
    "3. Envie 20 mensagens que demandam tempo para a fila.\n",
    "4. Derrube 2 consumidores.\n",
    "5. Após todas as mensagens terem sido processadas, religue os dois consumidores."
   ]
  },
  {
   "cell_type": "code",
   "execution_count": null,
   "metadata": {},
   "outputs": [],
   "source": []
  },
  {
   "attachments": {},
   "cell_type": "markdown",
   "metadata": {},
   "source": [
    "# Message durability"
   ]
  },
  {
   "attachments": {},
   "cell_type": "markdown",
   "metadata": {},
   "source": [
    "Aprendemos como garantir que todas as mensagens sejam entregues uma única vez, independentemente de falhas na comunicação com os consumidores."
   ]
  },
  {
   "attachments": {},
   "cell_type": "markdown",
   "metadata": {},
   "source": [
    "**Pergunta:** Mas o que acontece se o servidor 'cair' no meio do processo?\n",
    "\n",
    "\n",
    "**Exercícios**\n",
    "1. Crie uma fila vazia `work_queues`.\n",
    "2. Inicie três consumidores (`02_worker_consumer_ack.py`) em terminais diferentes.\n",
    "3. Envie 20 mensagens que demandam tempo para a fila.\n",
    "4. Liste as filas existentes `sudo rabbitmqctl list_queues`.\n",
    "5. Derrube o servidor enquanto as mensagens estiverem sendo processadas `sudo service rabbitmq-server stop`.\n",
    "6. Reinicie o servidor `sudo service rabbitmq-server start`\n",
    "7. Liste as filas novamente."
   ]
  },
  {
   "cell_type": "code",
   "execution_count": null,
   "metadata": {},
   "outputs": [],
   "source": []
  },
  {
   "attachments": {},
   "cell_type": "markdown",
   "metadata": {},
   "source": [
    "Para garantir que as mensagens não sejam perdidas em caso de pane do servidor, é preciso marcar filas como duráveis e mensagens como persistentes, modificando o seguintes pedaços de código:\n",
    "\n",
    "--- \n",
    "`producer` e `consumer`\n",
    "```python\n",
    "queue_name = 'work_queues_durable' #não é possível redefinir uma fila existente\n",
    "```\n",
    "\n",
    "--- \n",
    "`producer` e `consumer`\n",
    "```python\n",
    "channel.queue_declare(\n",
    "    queue=queue_name,\n",
    "    durable=True\n",
    ")\n",
    "```\n",
    "\n",
    "---\n",
    "\n",
    "`producer`\n",
    "```python\n",
    "channel.basic_publish(\n",
    "    exchange='',\n",
    "    routing_key=queue_name,\n",
    "    body=message,\n",
    "    properties=pika.BasicProperties(\n",
    "        delivery_mode=pika.spec.PERSISTENT_DELIVERY_MODE\n",
    "    )\n",
    ")\n",
    "```\n",
    "---"
   ]
  },
  {
   "attachments": {},
   "cell_type": "markdown",
   "metadata": {},
   "source": [
    "`produtor`\n",
    "---"
   ]
  },
  {
   "cell_type": "code",
   "execution_count": null,
   "metadata": {},
   "outputs": [],
   "source": []
  },
  {
   "attachments": {},
   "cell_type": "markdown",
   "metadata": {},
   "source": [
    "`consumidor`\n",
    "---"
   ]
  },
  {
   "attachments": {},
   "cell_type": "markdown",
   "metadata": {},
   "source": []
  },
  {
   "attachments": {},
   "cell_type": "markdown",
   "metadata": {},
   "source": [
    "O que acontece?\n",
    "---"
   ]
  },
  {
   "attachments": {},
   "cell_type": "markdown",
   "metadata": {},
   "source": [
    "**Pergunta:** Mas o que acontece se o servidor 'cair' no meio do processo?\n",
    "\n",
    "\n",
    "**Exercícios**\n",
    "1. Crie uma fila vazia `work_queues`.\n",
    "2. Inicie três consumidores (`02_worker_consumer_ack.py`) em terminais diferentes.\n",
    "3. Envie 20 mensagens que demandam tempo para a fila.\n",
    "4. Liste as filas existentes `sudo rabbitmqctl list_queues`.\n",
    "5. Derrube o servidor enquanto as mensagens estiverem sendo processadas `sudo service rabbitmq-server stop`.\n",
    "6. Reinicie o servidor `sudo service rabbitmq-server start`\n",
    "7. Liste as filas novamente."
   ]
  },
  {
   "cell_type": "code",
   "execution_count": null,
   "metadata": {},
   "outputs": [],
   "source": []
  },
  {
   "attachments": {},
   "cell_type": "markdown",
   "metadata": {},
   "source": [
    "O que acontece 2?\n",
    "---"
   ]
  },
  {
   "attachments": {},
   "cell_type": "markdown",
   "metadata": {},
   "source": [
    "**Pergunta:** Ao religar o servidor e os 2 ou 3 consumidores, o que você observa?\n",
    "\n",
    "\n",
    "**Exercícios**\n",
    "1. Após o exercício anterior, religue os consumidores."
   ]
  },
  {
   "cell_type": "code",
   "execution_count": null,
   "metadata": {},
   "outputs": [],
   "source": []
  },
  {
   "attachments": {},
   "cell_type": "markdown",
   "metadata": {},
   "source": [
    "# Fair dispatching"
   ]
  },
  {
   "attachments": {},
   "cell_type": "markdown",
   "metadata": {},
   "source": [
    "Apesar de não perdermos as mensagens em casos de falga de comunicação e/ou queda do servidor, percebemos que o *round-robin dispatching* não distribui as mensagens conforme desejamos: o primeiro consumidor bloqueia e processa tudo o que está na lista, não importa quantos outros consumidores sejam instanciados para ajudar!\n",
    "\n",
    "No *round-robin dispatching*, o servidor distribui $M$ mensagens igualitariamente para $N$ consumidores. Ao ligarmos o primeiro consumidor, como somente ele está disponível, ele recebe todas as mensagens.\n",
    "\n",
    "Para resolver esse problema, habilitamos o *Quality of Service (QoS)* para o canal e definimos `prefetch_count=1`, ou seja, cada consumidor recebe uma mensagem por vez, garantindo a otimização do processamento.\n",
    "\n",
    "![prefetch-count](https://s3-sa-east-1.amazonaws.com/lcpi/7cfc070b-dd79-4ec5-8d28-e15bd745e37f.png)\n",
    "\n",
    "Adicionemos o código abaixo em nosso consumidor:\n",
    "\n",
    "---\n",
    "`consumer`\n",
    "```python\n",
    "# Set up a consumer to receive messages from the queue and pass them to the callback function\n",
    "    channel.basic_qos(prefetch_count=1)\n",
    "    \n",
    "    channel.basic_consume(\n",
    "        queue=queue_name,\n",
    "        on_message_callback=callback,\n",
    "    )\n",
    "```\n",
    "---"
   ]
  },
  {
   "cell_type": "markdown",
   "metadata": {},
   "source": [
    "`consumidor`\n",
    "---"
   ]
  },
  {
   "attachments": {},
   "cell_type": "markdown",
   "metadata": {},
   "source": []
  },
  {
   "cell_type": "markdown",
   "metadata": {},
   "source": [
    "O que acontece?\n",
    "---"
   ]
  },
  {
   "attachments": {},
   "cell_type": "markdown",
   "metadata": {},
   "source": [
    "**Pergunta:** O que acontece quando removemos e adicionamos consumidores?\n",
    "\n",
    "\n",
    "**Exercícios**\n",
    "1. Crie uma fila vazia `work_queues_durable`.\n",
    "2. Inicie três consumidores (`02_worker_consumer_ack.py`) em terminais diferentes.\n",
    "3. Envie 20 mensagens que demandam tempo para a fila.\n",
    "4. Liste as filas existentes `sudo rabbitmqctl list_queues`.\n",
    "5. Derrube um ou mais consumidores.\n",
    "6. Reinicie um ou mais consumidores."
   ]
  },
  {
   "cell_type": "markdown",
   "metadata": {},
   "source": []
  },
  {
   "cell_type": "markdown",
   "metadata": {},
   "source": [
    "# Deletando queues"
   ]
  },
  {
   "cell_type": "code",
   "execution_count": null,
   "metadata": {},
   "outputs": [],
   "source": [
    "import pika\n",
    "\n",
    "connection = pika.BlockingConnection(pika.ConnectionParameters(\n",
    "               'localhost'))\n",
    "channel = connection.channel()\n",
    "\n",
    "queue_name = 'work_queues_durable'\n",
    "\n",
    "channel.queue_delete(queue=queue_name)\n",
    "\n",
    "connection.close()"
   ]
  },
  {
   "cell_type": "code",
   "execution_count": null,
   "metadata": {},
   "outputs": [],
   "source": []
  }
 ],
 "metadata": {
  "kernelspec": {
   "display_name": "Python 3",
   "language": "python",
   "name": "python3"
  },
  "language_info": {
   "codemirror_mode": {
    "name": "ipython",
    "version": 3
   },
   "file_extension": ".py",
   "mimetype": "text/x-python",
   "name": "python",
   "nbconvert_exporter": "python",
   "pygments_lexer": "ipython3",
   "version": "3.9.13"
  },
  "orig_nbformat": 4
 },
 "nbformat": 4,
 "nbformat_minor": 2
}
